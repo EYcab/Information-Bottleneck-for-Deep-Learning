{
 "cells": [
  {
   "cell_type": "markdown",
   "metadata": {},
   "source": [
    "### Convolution Neural Network"
   ]
  },
  {
   "cell_type": "markdown",
   "metadata": {},
   "source": [
    "Design reasoning\n",
    "1. Fashion data is more complex than digits, so we use more filters\n",
    "2. Choose Avg pooling on first conv layer to preserve more information\n",
    "3. Use Dropout to avoid overfitting. Although current start-of-art is Dropconnect, but it is not supported by PyTorch\n",
    "4. Use two layers of FC to reduce dimension"
   ]
  },
  {
   "cell_type": "code",
   "execution_count": 1,
   "metadata": {
    "collapsed": true
   },
   "outputs": [],
   "source": [
    "import torch\n",
    "from torch.autograd import Variable\n",
    "import torch.nn as nn\n",
    "import torch.nn.functional as F\n",
    "import torchvision\n",
    "from torchvision import datasets, transforms\n",
    "import torch.optim as optim\n",
    "import torchvision.datasets as dset\n",
    "import numpy as np"
   ]
  },
  {
   "cell_type": "code",
   "execution_count": 12,
   "metadata": {
    "collapsed": false
   },
   "outputs": [
    {
     "data": {
      "text/plain": [
       "<module 'mlp_torch' from 'mlp_torch.py'>"
      ]
     },
     "execution_count": 12,
     "metadata": {},
     "output_type": "execute_result"
    }
   ],
   "source": [
    "from torch_data_utils import load_fashion_mnist\n",
    "import mlp_torch\n",
    "reload(mlp_torch)"
   ]
  },
  {
   "cell_type": "code",
   "execution_count": 4,
   "metadata": {
    "collapsed": false
   },
   "outputs": [
    {
     "name": "stdout",
     "output_type": "stream",
     "text": [
      "Downloading http://fashion-mnist.s3-website.eu-central-1.amazonaws.com/train-images-idx3-ubyte.gz\n",
      "Downloading http://fashion-mnist.s3-website.eu-central-1.amazonaws.com/train-labels-idx1-ubyte.gz\n",
      "Downloading http://fashion-mnist.s3-website.eu-central-1.amazonaws.com/t10k-images-idx3-ubyte.gz\n",
      "Downloading http://fashion-mnist.s3-website.eu-central-1.amazonaws.com/t10k-labels-idx1-ubyte.gz\n",
      "Processing...\n",
      "Done!\n"
     ]
    }
   ],
   "source": [
    "train_loader, test_loader = load_fashion_mnist()"
   ]
  },
  {
   "cell_type": "code",
   "execution_count": 13,
   "metadata": {
    "collapsed": false
   },
   "outputs": [],
   "source": [
    "model = mlp_torch.Model(784, 500, 256, 64, 10)"
   ]
  },
  {
   "cell_type": "code",
   "execution_count": 14,
   "metadata": {
    "collapsed": false,
    "scrolled": true
   },
   "outputs": [
    {
     "name": "stdout",
     "output_type": "stream",
     "text": [
      "Iter: 1000. Accuracy: 0.5443\n",
      "Iter: 2000. Accuracy: 0.5616\n",
      "Iter: 3000. Accuracy: 0.567\n",
      "Iter: 4000. Accuracy: 0.563\n",
      "Iter: 5000. Accuracy: 0.5626\n",
      "Iter: 6000. Accuracy: 0.5648\n",
      "Iter: 7000. Accuracy: 0.5634\n",
      "Iter: 8000. Accuracy: 0.5632\n",
      "Iter: 9000. Accuracy: 0.5682\n",
      "Iter: 10000. Accuracy: 0.5572\n",
      "Iter: 11000. Accuracy: 0.5668\n",
      "Iter: 12000. Accuracy: 0.5636\n",
      "Iter: 13000. Accuracy: 0.564\n",
      "Iter: 14000. Accuracy: 0.5682\n",
      "Iter: 15000. Accuracy: 0.5675\n",
      "Iter: 16000. Accuracy: 0.5637\n",
      "Iter: 17000. Accuracy: 0.5694\n",
      "Iter: 18000. Accuracy: 0.5638\n",
      "Iter: 19000. Accuracy: 0.5664\n",
      "Iter: 20000. Accuracy: 0.561\n",
      "Iter: 21000. Accuracy: 0.5662\n",
      "Iter: 22000. Accuracy: 0.5592\n",
      "Iter: 23000. Accuracy: 0.5661\n",
      "Iter: 24000. Accuracy: 0.6536\n",
      "Iter: 25000. Accuracy: 0.657\n",
      "Iter: 26000. Accuracy: 0.6572\n",
      "Iter: 27000. Accuracy: 0.66\n",
      "Iter: 28000. Accuracy: 0.6572\n"
     ]
    }
   ],
   "source": [
    "max_epochs = 30\n",
    "report_size = 1000\n",
    "iter = 0\n",
    "optimizer = torch.optim.Adam(model.parameters(), lr=0.001)\n",
    "criterion = nn.CrossEntropyLoss()\n",
    "log = {}\n",
    "\n",
    "for epoch in range(max_epochs):\n",
    "    for i, (features, labels) in enumerate(train_loader):\n",
    "        \n",
    "        features = Variable(features)\n",
    "        labels = Variable(labels)\n",
    "        \n",
    "        optimizer.zero_grad()\n",
    "        outputs = model(features)\n",
    "        \n",
    "        loss = criterion(outputs, labels)\n",
    "        loss.backward()\n",
    "        \n",
    "        optimizer.step()\n",
    "        \n",
    "        iter += 1\n",
    "        \n",
    "        if iter % report_size == 0:\n",
    "            correct = 0.\n",
    "            total = 0.\n",
    "            \n",
    "            for features, labels in test_loader:\n",
    "                features = Variable(features)\n",
    "                result = model(features)\n",
    "                \n",
    "                _, predicted = torch.max(result.data, 1)\n",
    "                \n",
    "                total += labels.size(0)\n",
    "                correct += (predicted == labels).sum()\n",
    "            \n",
    "            accuracy = correct / total\n",
    "            log[iter] = accuracy\n",
    "            print('Iter: {}. Accuracy: {}'.format(iter, accuracy))"
   ]
  },
  {
   "cell_type": "code",
   "execution_count": null,
   "metadata": {
    "collapsed": true
   },
   "outputs": [],
   "source": [
    "%matplotlib inline  \n",
    "import matplotlib\n",
    "import matplotlib.pyplot as plt\n",
    "import numpy as np\n",
    "matplotlib.rcParams.update({'font.size': 14})\n",
    "figsize = (8, 5)\n",
    " \n",
    " \n",
    "def plot(test_logs, size = figsize):\n",
    "     \n",
    "    plt.figure(1, figsize=size)\n",
    " \n",
    "    lists = sorted(test_logs.items()) \n",
    "    x, y = zip(*lists) \n",
    "    plt.plot(x, y, label = 'Testing')\n",
    " \n",
    "    plt.ylabel('Accuracy ')\n",
    "    plt.xlabel('Number of Iterations')\n",
    "    plt.title('Test Accuracy VS. Number of Iterations')"
   ]
  },
  {
   "cell_type": "code",
   "execution_count": null,
   "metadata": {
    "collapsed": false
   },
   "outputs": [],
   "source": [
    "plot(log)"
   ]
  }
 ],
 "metadata": {
  "kernelspec": {
   "display_name": "Python 2",
   "language": "python",
   "name": "python2"
  },
  "language_info": {
   "codemirror_mode": {
    "name": "ipython",
    "version": 2
   },
   "file_extension": ".py",
   "mimetype": "text/x-python",
   "name": "python",
   "nbconvert_exporter": "python",
   "pygments_lexer": "ipython2",
   "version": "2.7.13"
  }
 },
 "nbformat": 4,
 "nbformat_minor": 2
}
