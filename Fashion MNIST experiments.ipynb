{
 "cells": [
  {
   "cell_type": "markdown",
   "metadata": {},
   "source": [
    "## Fashion MNIST experiments"
   ]
  },
  {
   "cell_type": "markdown",
   "metadata": {},
   "source": [
    "We use two models for this problem: Multi-Layer Perceptron and Convolution Neural Network. To visualize the information plane, considering the limited computation power, we choose the MLP approach and compute encoder/decoer mututal information based on a fraction of training data. "
   ]
  },
  {
   "cell_type": "markdown",
   "metadata": {},
   "source": [
    "### Model 1: Multilayer perceptron w/ Batch Normalization"
   ]
  },
  {
   "cell_type": "code",
   "execution_count": 15,
   "metadata": {
    "collapsed": false
   },
   "outputs": [
    {
     "data": {
      "text/plain": [
       "<module 'plot_tool' from 'plot_tool.pyc'>"
      ]
     },
     "execution_count": 15,
     "metadata": {},
     "output_type": "execute_result"
    }
   ],
   "source": [
    "from utils import load_mnist\n",
    "import utils\n",
    "import numpy as np\n",
    "from mlp import Layer, LayerArgs, Model, ModelArgs\n",
    "from collections import Counter\n",
    "import math\n",
    "from mi_tool import MI\n",
    "import plot_tool\n",
    "reload(plot_tool)"
   ]
  },
  {
   "cell_type": "code",
   "execution_count": 18,
   "metadata": {
    "collapsed": true
   },
   "outputs": [],
   "source": [
    "%matplotlib inline"
   ]
  },
  {
   "cell_type": "code",
   "execution_count": 2,
   "metadata": {
    "collapsed": true
   },
   "outputs": [],
   "source": [
    "X_train, y_train = load_mnist('../fashion_mnist/', kind='train')\n",
    "X_test, y_test = load_mnist('../fashion_mnist/', kind='t10k')\n",
    "\n",
    "# normalize inputs\n",
    "X_train, X_test = np.multiply(X_train, 1.0 / 255.0), np.multiply(X_test, 1.0 / 255.0)\n",
    "X_train, y_train = utils.unison_shuffled_copies(X_train, y_train)\n",
    "X_train_subset, y_train_subset = X_train[:10000], y_train[:10000]"
   ]
  },
  {
   "cell_type": "code",
   "execution_count": 3,
   "metadata": {
    "collapsed": false
   },
   "outputs": [],
   "source": [
    "# define the network structure with 2 hidden layers of dimension 100 and 20. \n",
    "# other parameters were set to default, activation function is set to RELU by default. \n",
    "\n",
    "layer_args = [LayerArgs(784, 784, layer_type = \"INPUT\"), \\\n",
    "              LayerArgs(784, 100), \\\n",
    "              LayerArgs(100, 20), \\\n",
    "              LayerArgs(20, 10, layer_type = \"OUTPUT\", activate = np.exp)]\n",
    "\n",
    "# our model is using mini-batch gradient descent\n",
    "# set max #(epoch) as 80 and max #(iteration) as 100000;\n",
    "# For everay 1000 iterations, we compute (and plot) MI;\n",
    "model_args = ModelArgs(num_passes = 80, max_iter=100000, report_interval=500)\n",
    "\n",
    "# intialize the model\n",
    "# TODO: model weights intialization by denoised autoencoder\n",
    "\n",
    "model = Model(layer_args, model_args)\n",
    "model.feed_data(X_train, y_train, X_test, y_test)\n",
    "model.trial_data(X_train_subset, y_train_subset)\n",
    "model.intialize_model()"
   ]
  },
  {
   "cell_type": "code",
   "execution_count": 4,
   "metadata": {
    "collapsed": true
   },
   "outputs": [],
   "source": [
    "MI_client = MI(X_train_subset, y_train_subset, 10)\n",
    "MI_client.discretize()\n",
    "MI_client.pre_compute()"
   ]
  },
  {
   "cell_type": "code",
   "execution_count": 5,
   "metadata": {
    "collapsed": false,
    "scrolled": true
   },
   "outputs": [
    {
     "name": "stdout",
     "output_type": "stream",
     "text": [
      "Epoch: 1, Train Acc: 0.84835, Test Acc: 0.8327\n",
      "Epoch: 2, Train Acc: 0.863566666667, Test Acc: 0.8467\n",
      "Epoch: 3, Train Acc: 0.872333333333, Test Acc: 0.8532\n",
      "Epoch: 4, Train Acc: 0.876233333333, Test Acc: 0.8553\n",
      "Epoch: 5, Train Acc: 0.882316666667, Test Acc: 0.8624\n",
      "Epoch: 6, Train Acc: 0.884516666667, Test Acc: 0.8609\n",
      "Epoch: 7, Train Acc: 0.88945, Test Acc: 0.8656\n",
      "Epoch: 8, Train Acc: 0.8912, Test Acc: 0.8672\n",
      "Epoch: 9, Train Acc: 0.893566666667, Test Acc: 0.8679\n",
      "Epoch: 10, Train Acc: 0.89485, Test Acc: 0.8707\n",
      "Epoch: 11, Train Acc: 0.89665, Test Acc: 0.8704\n",
      "Epoch: 12, Train Acc: 0.899333333333, Test Acc: 0.8716\n",
      "Epoch: 13, Train Acc: 0.90265, Test Acc: 0.8769\n",
      "Epoch: 14, Train Acc: 0.899783333333, Test Acc: 0.871\n",
      "Epoch: 15, Train Acc: 0.9043, Test Acc: 0.877\n",
      "Epoch: 16, Train Acc: 0.906016666667, Test Acc: 0.8774\n",
      "Epoch: 17, Train Acc: 0.908116666667, Test Acc: 0.8787\n",
      "Epoch: 18, Train Acc: 0.90865, Test Acc: 0.8779\n",
      "Epoch: 19, Train Acc: 0.90795, Test Acc: 0.8766\n",
      "Epoch: 20, Train Acc: 0.909883333333, Test Acc: 0.8813\n",
      "Epoch: 21, Train Acc: 0.913216666667, Test Acc: 0.8812\n",
      "Epoch: 22, Train Acc: 0.913433333333, Test Acc: 0.8821\n",
      "Epoch: 23, Train Acc: 0.911816666667, Test Acc: 0.8803\n",
      "Epoch: 24, Train Acc: 0.9165, Test Acc: 0.8834\n",
      "Epoch: 25, Train Acc: 0.915316666667, Test Acc: 0.8838\n",
      "Epoch: 26, Train Acc: 0.917033333333, Test Acc: 0.885\n",
      "Epoch: 27, Train Acc: 0.918416666667, Test Acc: 0.8819\n",
      "Epoch: 28, Train Acc: 0.91845, Test Acc: 0.8823\n",
      "Epoch: 29, Train Acc: 0.920066666667, Test Acc: 0.8848\n",
      "Epoch: 30, Train Acc: 0.921033333333, Test Acc: 0.8851\n",
      "Epoch: 31, Train Acc: 0.9213, Test Acc: 0.8815\n",
      "Epoch: 32, Train Acc: 0.9227, Test Acc: 0.8857\n",
      "Epoch: 33, Train Acc: 0.92305, Test Acc: 0.8851\n",
      "Epoch: 34, Train Acc: 0.924516666667, Test Acc: 0.8842\n"
     ]
    }
   ],
   "source": [
    "for epoch, hidden_layers in model.run_model():\n",
    "    MI_client.mi_single_epoch(hidden_layers, epoch)"
   ]
  },
  {
   "cell_type": "markdown",
   "metadata": {},
   "source": [
    "### Model 2: Convolution Neural Network (PyTorch)"
   ]
  },
  {
   "cell_type": "markdown",
   "metadata": {},
   "source": [
    "For the second model, we use the classical CNN with PyTorch. The code is fairly simple as we are using libraries. "
   ]
  },
  {
   "cell_type": "markdown",
   "metadata": {},
   "source": [
    "#### please refer to this notebook for code and results [link](https://github.com/LargePanda/Information-Bottleneck-for-Deep-Learning/blob/master/CNN.ipynb)"
   ]
  },
  {
   "cell_type": "markdown",
   "metadata": {},
   "source": [
    "### Analysis: Information Bottleneck"
   ]
  },
  {
   "cell_type": "code",
   "execution_count": null,
   "metadata": {
    "collapsed": false
   },
   "outputs": [],
   "source": [
    "reload(plot_tool)\n",
    "plot_tool.mi_plot(MI_client)"
   ]
  },
  {
   "cell_type": "markdown",
   "metadata": {},
   "source": [
    "### Analysis: Visualization of accuracy v.s. epoches"
   ]
  },
  {
   "cell_type": "code",
   "execution_count": 20,
   "metadata": {
    "collapsed": false
   },
   "outputs": [
    {
     "data": {
      "image/png": "[encoded data removed]",
      "text/plain": [
       "<matplotlib.figure.Figure at 0x11608d750>"
      ]
     },
     "metadata": {},
     "output_type": "display_data"
    }
   ],
   "source": [
    "plot_tool.plot(model.train_log_acc, model.test_log_acc)"
   ]
  },
  {
   "cell_type": "code",
   "execution_count": null,
   "metadata": {
    "collapsed": true
   },
   "outputs": [],
   "source": []
  }
 ],
 "metadata": {
  "kernelspec": {
   "display_name": "Python 2",
   "language": "python",
   "name": "python2"
  },
  "language_info": {
   "codemirror_mode": {
    "name": "ipython",
    "version": 2
   },
   "file_extension": ".py",
   "mimetype": "text/x-python",
   "name": "python",
   "nbconvert_exporter": "python",
   "pygments_lexer": "ipython2",
   "version": "2.7.13"
  }
 },
 "nbformat": 4,
 "nbformat_minor": 2
}
