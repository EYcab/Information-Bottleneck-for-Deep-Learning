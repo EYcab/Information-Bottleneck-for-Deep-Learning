{
 "cells": [
  {
   "cell_type": "code",
   "execution_count": null,
   "metadata": {
    "collapsed": false
   },
   "outputs": [],
   "source": [
    "from utils import load_mnist\n",
    "import utils\n",
    "import numpy as np\n",
    "from mlp import Layer, LayerArgs, Model, ModelArgs\n",
    "from collections import Counter\n",
    "import math\n",
    "from mi_tool import MI"
   ]
  },
  {
   "cell_type": "code",
   "execution_count": null,
   "metadata": {
    "collapsed": true
   },
   "outputs": [],
   "source": [
    "X_train, y_train = load_mnist('../fashion_mnist/', kind='train')\n",
    "X_test, y_test = load_mnist('../fashion_mnist/', kind='t10k')\n",
    "# X_train, X_test = np.multiply(X_train, 1.0 / 255.0), np.multiply(X_test, 1.0 / 255.0)\n",
    "\n",
    "thresh = 127\n",
    "super_threshold_indices = X_train > thresh\n",
    "X_train [super_threshold_indices] = 1\n",
    "\n",
    "super_threshold_indices = X_test > thresh\n",
    "X_test [super_threshold_indices] = 1"
   ]
  },
  {
   "cell_type": "code",
   "execution_count": null,
   "metadata": {
    "collapsed": false
   },
   "outputs": [],
   "source": [
    "X_train, y_train = utils.unison_shuffled_copies(X_train, y_train)\n",
    "X_train_subset, y_train_subset = X_train[:1000], y_train[:1000]"
   ]
  },
  {
   "cell_type": "code",
   "execution_count": null,
   "metadata": {
    "collapsed": false
   },
   "outputs": [],
   "source": [
    "layer_args = [LayerArgs(784, 784, layer_type = \"INPUT\"), LayerArgs(784, 20), LayerArgs(20, 20), LayerArgs(20, 10, layer_type = \"OUTPUT\", activate = np.exp)]\n",
    "model_args = ModelArgs(num_passes = 80, max_iter=100000, report_interval=1000)\n",
    "\n",
    "model = Model(layer_args, model_args)\n",
    "model.feed_data(X_train, y_train, X_test, y_test)\n",
    "model.trial_data(X_train_subset, y_train_subset)\n",
    "\n",
    "model.intialize_model()"
   ]
  },
  {
   "cell_type": "code",
   "execution_count": null,
   "metadata": {
    "collapsed": false
   },
   "outputs": [],
   "source": [
    "MI_client = MI(X_train_subset, y_train_subset, 10)\n",
    "MI_client.discretize()\n",
    "MI_client.pre_compute()"
   ]
  },
  {
   "cell_type": "code",
   "execution_count": null,
   "metadata": {
    "collapsed": false,
    "scrolled": true
   },
   "outputs": [],
   "source": [
    "for epoch, hidden_layers in model.run_model():\n",
    "    MI_client.mi_single_epoch(hidden_layers, epoch)"
   ]
  },
  {
   "cell_type": "code",
   "execution_count": null,
   "metadata": {
    "collapsed": false
   },
   "outputs": [],
   "source": [
    "en_mis, de_mis, epochs = np.array(MI_client.en_mi_collector), np.array(MI_client.de_mi_collector), np.array(MI_client.epochs)"
   ]
  },
  {
   "cell_type": "code",
   "execution_count": null,
   "metadata": {
    "collapsed": true
   },
   "outputs": [],
   "source": [
    "%matplotlib inline\n",
    "import matplotlib.pyplot as plt\n",
    "from matplotlib import animation\n",
    "from IPython.display import HTML"
   ]
  },
  {
   "cell_type": "code",
   "execution_count": null,
   "metadata": {
    "collapsed": true
   },
   "outputs": [],
   "source": [
    "fig, ax = plt.subplots(figsize=(8,8))\n",
    "ax.set_xlabel('I(X;T)')\n",
    "ax.set_ylabel('I(T;Y)')\n",
    "title = ax.set_title('')\n",
    "plt.close(fig)"
   ]
  },
  {
   "cell_type": "code",
   "execution_count": null,
   "metadata": {
    "collapsed": false
   },
   "outputs": [],
   "source": [
    "cmap = plt.cm.get_cmap('cool')\n",
    "\n",
    "def animate(i):\n",
    "    title.set_text('Epoch %s' % str(epochs[i]).zfill(4))\n",
    "    ax.plot(en_mis[i,:], de_mis[i,:], 'k-',alpha=0.2)\n",
    "    if i > 0:\n",
    "        for j in range(len(en_mis[0])):\n",
    "            ax.plot(en_mis[(i-1):(i+1),j],de_mis[(i-1):(i+1),j],'.-',c=cmap(j*.2),ms=10)\n",
    "            \n",
    "for i in range(len(en_mis)):\n",
    "    animate(i)"
   ]
  },
  {
   "cell_type": "code",
   "execution_count": null,
   "metadata": {
    "collapsed": false
   },
   "outputs": [],
   "source": [
    "len(en_mis)"
   ]
  },
  {
   "cell_type": "code",
   "execution_count": null,
   "metadata": {
    "collapsed": false,
    "scrolled": false
   },
   "outputs": [],
   "source": [
    "en_mis"
   ]
  },
  {
   "cell_type": "code",
   "execution_count": null,
   "metadata": {
    "collapsed": false
   },
   "outputs": [],
   "source": [
    "ax.set_title('Epoch 0000 - 2999')\n",
    "fig"
   ]
  },
  {
   "cell_type": "code",
   "execution_count": null,
   "metadata": {
    "collapsed": true
   },
   "outputs": [],
   "source": []
  }
 ],
 "metadata": {
  "kernelspec": {
   "display_name": "Python 2",
   "language": "python",
   "name": "python2"
  },
  "language_info": {
   "codemirror_mode": {
    "name": "ipython",
    "version": 2
   },
   "file_extension": ".py",
   "mimetype": "text/x-python",
   "name": "python",
   "nbconvert_exporter": "python",
   "pygments_lexer": "ipython2",
   "version": "2.7.13"
  }
 },
 "nbformat": 4,
 "nbformat_minor": 2
}
