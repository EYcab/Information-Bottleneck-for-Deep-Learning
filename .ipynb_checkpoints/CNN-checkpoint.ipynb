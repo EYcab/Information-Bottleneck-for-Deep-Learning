{
 "cells": [
  {
   "cell_type": "markdown",
   "metadata": {},
   "source": [
    "### Convolution Neural Network"
   ]
  },
  {
   "cell_type": "markdown",
   "metadata": {},
   "source": [
    " -  Conv Layer 1 （16 filters， KERNEL = 3X3, ReLU） \n",
    " - Pooling Layer 1 （Average， KERNEL = 2X2） \n",
    " - Conv Layer 2 （64 filters， KERNEL = 3X3, ReLU）\n",
    " - Pooling Layer 2 （Max， KERNEL = 2X2, ReLU） \n",
    " - FC 1 （1600, by 64x5x5）\n",
    " - FC2 （100）\n",
    " - Output (10)"
   ]
  },
  {
   "cell_type": "markdown",
   "metadata": {},
   "source": [
    "Design reasoning\n",
    "1. Fashion data is more complex than digits, so we use more filters\n",
    "2. Choose Avg pooling on first conv layer to preserve more information\n",
    "3. Use Dropout to avoid overfitting. Although current start-of-art is Dropconnect, but it is not supported by PyTorch\n",
    "4. Use two layers of FC to reduce dimension"
   ]
  },
  {
   "cell_type": "code",
   "execution_count": 6,
   "metadata": {
    "collapsed": true
   },
   "outputs": [],
   "source": [
    "import torch\n",
    "from torch.autograd import Variable\n",
    "import torch.nn as nn\n",
    "import torch.nn.functional as F\n",
    "import torchvision\n",
    "from torchvision import datasets, transforms\n",
    "import torch.optim as optim\n",
    "import torchvision.datasets as dset\n",
    "import numpy as np"
   ]
  },
  {
   "cell_type": "code",
   "execution_count": 7,
   "metadata": {
    "collapsed": true
   },
   "outputs": [],
   "source": [
    "from torch_data_utils import load_fashion_mnist\n",
    "import cnn"
   ]
  },
  {
   "cell_type": "code",
   "execution_count": 8,
   "metadata": {
    "collapsed": true
   },
   "outputs": [],
   "source": [
    "train_loader, test_loader = load_fashion_mnist()"
   ]
  },
  {
   "cell_type": "code",
   "execution_count": 9,
   "metadata": {
    "collapsed": true
   },
   "outputs": [],
   "source": [
    "model = cnn.Model()"
   ]
  },
  {
   "cell_type": "code",
   "execution_count": 10,
   "metadata": {
    "collapsed": false,
    "scrolled": true
   },
   "outputs": [
    {
     "name": "stdout",
     "output_type": "stream",
     "text": [
      "Iter: 1000. Accuracy: 0.8312\n",
      "Iter: 2000. Accuracy: 0.8559\n",
      "Iter: 3000. Accuracy: 0.8614\n",
      "Iter: 4000. Accuracy: 0.8663\n",
      "Iter: 5000. Accuracy: 0.8711\n",
      "Iter: 6000. Accuracy: 0.8741\n",
      "Iter: 7000. Accuracy: 0.8749\n",
      "Iter: 8000. Accuracy: 0.8807\n",
      "Iter: 9000. Accuracy: 0.8804\n",
      "Iter: 10000. Accuracy: 0.8801\n",
      "Iter: 11000. Accuracy: 0.8823\n",
      "Iter: 12000. Accuracy: 0.8801\n",
      "Iter: 13000. Accuracy: 0.8895\n",
      "Iter: 14000. Accuracy: 0.8865\n",
      "Iter: 15000. Accuracy: 0.8883\n",
      "Iter: 16000. Accuracy: 0.8874\n",
      "Iter: 17000. Accuracy: 0.8922\n",
      "Iter: 18000. Accuracy: 0.8858\n",
      "Iter: 19000. Accuracy: 0.8874\n",
      "Iter: 20000. Accuracy: 0.8887\n",
      "Iter: 21000. Accuracy: 0.888\n",
      "Iter: 22000. Accuracy: 0.8926\n",
      "Iter: 23000. Accuracy: 0.8929\n",
      "Iter: 24000. Accuracy: 0.8916\n",
      "Iter: 25000. Accuracy: 0.8895\n",
      "Iter: 26000. Accuracy: 0.8906\n",
      "Iter: 27000. Accuracy: 0.8924\n",
      "Iter: 28000. Accuracy: 0.8908\n"
     ]
    }
   ],
   "source": [
    "max_epochs = 30\n",
    "report_size = 1000\n",
    "iter = 0\n",
    "optimizer = torch.optim.Adam(model.parameters(), lr=0.001)\n",
    "criterion = nn.CrossEntropyLoss()\n",
    "log = {}\n",
    "\n",
    "for epoch in range(max_epochs):\n",
    "    for i, (features, labels) in enumerate(train_loader):\n",
    "        \n",
    "        features = Variable(features)\n",
    "        labels = Variable(labels)\n",
    "        \n",
    "        optimizer.zero_grad()\n",
    "        outputs = model(features)\n",
    "        \n",
    "        loss = criterion(outputs, labels)\n",
    "        loss.backward()\n",
    "        \n",
    "        optimizer.step()\n",
    "        \n",
    "        iter += 1\n",
    "        \n",
    "        if iter % report_size == 0:\n",
    "            correct = 0.\n",
    "            total = 0.\n",
    "            \n",
    "            for features, labels in test_loader:\n",
    "                features = Variable(features)\n",
    "                result = model(features)\n",
    "                \n",
    "                _, predicted = torch.max(result.data, 1)\n",
    "                \n",
    "                total += labels.size(0)\n",
    "                correct += (predicted == labels).sum()\n",
    "            \n",
    "            accuracy = correct / total\n",
    "            log[iter] = accuracy\n",
    "            print('Iter: {}. Accuracy: {}'.format(iter, accuracy))"
   ]
  },
  {
   "cell_type": "code",
   "execution_count": 12,
   "metadata": {
    "collapsed": true
   },
   "outputs": [],
   "source": [
    "%matplotlib inline  \n",
    "import matplotlib\n",
    "import matplotlib.pyplot as plt\n",
    "import numpy as np\n",
    "matplotlib.rcParams.update({'font.size': 14})\n",
    "figsize = (8, 5)\n",
    " \n",
    " \n",
    "def plot(test_logs, size = figsize):\n",
    "     \n",
    "    plt.figure(1, figsize=size)\n",
    " \n",
    "    lists = sorted(test_logs.items()) \n",
    "    x, y = zip(*lists) \n",
    "    plt.plot(x, y, label = 'Testing')\n",
    " \n",
    "    plt.ylabel('Accuracy ')\n",
    "    plt.xlabel('Number of Iterations')\n",
    "    plt.title('Test Accuracy VS. Number of Iterations')"
   ]
  },
  {
   "cell_type": "code",
   "execution_count": 13,
   "metadata": {
    "collapsed": false
   },
   "outputs": [
    {
     "data": {
      "image/png": "[encoded data removed]",
      "text/plain": [
       "<matplotlib.figure.Figure at 0x7fea3bac7f50>"
      ]
     },
     "metadata": {},
     "output_type": "display_data"
    }
   ],
   "source": [
    "plot(log)"
   ]
  }
 ],
 "metadata": {
  "kernelspec": {
   "display_name": "Python 2",
   "language": "python",
   "name": "python2"
  },
  "language_info": {
   "codemirror_mode": {
    "name": "ipython",
    "version": 2
   },
   "file_extension": ".py",
   "mimetype": "text/x-python",
   "name": "python",
   "nbconvert_exporter": "python",
   "pygments_lexer": "ipython2",
   "version": "2.7.13"
  }
 },
 "nbformat": 4,
 "nbformat_minor": 2
}
