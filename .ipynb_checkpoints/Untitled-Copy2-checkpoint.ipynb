{
 "cells": [
  {
   "cell_type": "code",
   "execution_count": 26,
   "metadata": {
    "collapsed": false
   },
   "outputs": [],
   "source": [
    "from utils import load_mnist\n",
    "import utils\n",
    "import numpy as np\n",
    "from mlp import Layer, LayerArgs, Model, ModelArgs\n",
    "from collections import Counter\n",
    "import math"
   ]
  },
  {
   "cell_type": "code",
   "execution_count": 2,
   "metadata": {
    "collapsed": true
   },
   "outputs": [],
   "source": [
    "X_train, y_train = load_mnist('../fashion_mnist/', kind='train')\n",
    "X_test, y_test = load_mnist('../fashion_mnist/', kind='t10k')"
   ]
  },
  {
   "cell_type": "code",
   "execution_count": 3,
   "metadata": {
    "collapsed": false
   },
   "outputs": [],
   "source": [
    "X_train, y_train = utils.unison_shuffled_copies(X_train, y_train)\n",
    "X_train, y_train= X_train, y_train\n",
    "\n",
    "X_test, y_test = utils.unison_shuffled_copies(X_test, y_test)\n",
    "X_test, y_test = X_test, y_test"
   ]
  },
  {
   "cell_type": "code",
   "execution_count": 4,
   "metadata": {
    "collapsed": true
   },
   "outputs": [],
   "source": [
    "X_train, X_test = np.multiply(X_train, 1.0 / 255.0), np.multiply(X_test, 1.0 / 255.0)"
   ]
  },
  {
   "cell_type": "code",
   "execution_count": 5,
   "metadata": {
    "collapsed": false
   },
   "outputs": [
    {
     "name": "stdout",
     "output_type": "stream",
     "text": [
      "data imported\n"
     ]
    }
   ],
   "source": [
    "layer_args = [LayerArgs(784, 784, layer_type = \"INPUT\"), LayerArgs(784, 10), LayerArgs(10, 20), LayerArgs(20, 10, layer_type = \"OUTPUT\", activate = np.exp)]\n",
    "model_args = ModelArgs(num_passes = 400)\n",
    "\n",
    "model = Model(layer_args, model_args)\n",
    "model.feed_data(X_train, y_train, X_test, y_test)\n",
    "\n",
    "print \"data imported\"\n",
    "model.intialize_model()"
   ]
  },
  {
   "cell_type": "code",
   "execution_count": 33,
   "metadata": {
    "collapsed": false
   },
   "outputs": [],
   "source": [
    "class MI:\n",
    "    def __init__(self, bin_size):\n",
    "        self.X = X\n",
    "        self.y = y\n",
    "        self.bins = np.linspace(0, 1, bin_size+1)\n",
    "        self.n_samples = self.X.shape[0]\n",
    "        self.unit = 1./n_samples\n",
    "        \n",
    "        self.pdf_x = Counter()\n",
    "        self.pdf_y = Counter()\n",
    "        \n",
    "        self.en_mi_collector = []\n",
    "        self.de_mi_collector = []\n",
    "        self.epochs = []\n",
    "\n",
    "\n",
    "    def discretize(self):\n",
    "        self.X_d = np.digitize(self.X, bins).tolist()\n",
    "        self.y_d = self.X.tolist()\n",
    "        \n",
    "    def pre_compute(self):\n",
    "        for i in range(self.n_samples):\n",
    "            self.pdf_x[utils.totuple(self.X_d[i])] += unit\n",
    "            self.pdf_y[self.y_d[i]] += unit\n",
    "    \n",
    "    def combine(self, a, b):\n",
    "        return (totuple(a,)) + tuple(b)\n",
    "\n",
    "    def joint_compute(self, hidden):\n",
    "        \n",
    "        self.h = np.digitize(hidden, bins).tolist()\n",
    "        self.pdf_t = Counter()\n",
    "        self.pdf_xt = Counter()\n",
    "        self.pdf_yt = Counter()\n",
    "        \n",
    "        for i in range(self.n_samples):\n",
    "            xt = combine(self.X_d[i], indices[i,:])\n",
    "            yt = combine(self.y_d[i], indices[i,:])\n",
    "            self.pdf_xt[xt] += unit\n",
    "            self.pdf_yt[yt] += unit\n",
    "            self.pdf_t[tuple(self.h[i])] += unit\n",
    "            \n",
    "    def encoder_mi(self):\n",
    "        return sum([ self.pdf_xt[xt] * (math.log(self.pdf_xt[xt]) - math.log(self.pdf_x[xt[0]]) -  math.log(self.pdf_t[xt[1]])) for xt in self.pdf_xt ])\n",
    "        \n",
    "    def decoder_mi(self):\n",
    "        return sum([ self.pdf_yt[yt] * (math.log(self.pdf_yt[yt]) - math.log(self.pdf_y[yt[0]]) -  math.log(self.pdf_t[yt[1]])) for yt in self.pdf_yt ])\n",
    "    \n",
    "    def mi_single_epoch(self, hiddens, epoch):\n",
    "        ens = []\n",
    "        des = []\n",
    "        for hidden in hiddens:\n",
    "            self.joint_compute(hidden)\n",
    "            ens.append(self.encoder_mi())\n",
    "            des.append(self.decoder_mi())\n",
    "        self.en_mi_collector.append(ens)\n",
    "        self.de_mi_collector.append(des)\n",
    "        self.epochs.append(epoch)"
   ]
  },
  {
   "cell_type": "code",
   "execution_count": null,
   "metadata": {
    "collapsed": false
   },
   "outputs": [],
   "source": [
    "def calc_mutual_information(hidden):\n",
    "    n_neurons = hidden.shape[1]\n",
    "  \n",
    "    n_bins = 30\n",
    "    bins = np.linspace(0, 1, n_bins+1)\n",
    "    indices = np.digitize(hidden, bins)\n",
    "    \n",
    "    # initialize pdfs\n",
    "     pdf_t = Counter(); pdf_xt = Counter(); pdf_yt = Counter()\n",
    "    \n",
    "    for i in range(n_train_samples):   \n",
    "        pdf_xt[(totuple(X_train[i]),)+tuple(indices[i,:])] += 1/float(n_train_samples)\n",
    "        pdf_yt[(y_train[i],)+tuple(indices[i,:])] += 1/float(n_train_samples)\n",
    "        pdf_t[tuple(indices[i,:])] += 1/float(n_train_samples)\n",
    "    \n",
    "    # calcuate encoder mutual information I(X;T)\n",
    "    mi_xt = 0\n",
    "    for i in pdf_xt:\n",
    "        p_xt = pdf_xt[i]; p_x = pdf_x[i[0]]; p_t = pdf_t[i[1:]]\n",
    "        mi_xt += p_xt * np.log(p_xt / p_x / p_t)\n",
    " \n",
    "    # calculate decoder mutual information I(T;Y)\n",
    "    mi_ty = 0\n",
    "    for i in pdf_yt:\n",
    "        # P(t,y), P(t) and P(y)\n",
    "        p_yt = pdf_yt[i]; p_t = pdf_t[i[1:]]; p_y = pdf_y[i[0]]\n",
    "        # I(X;T)\n",
    "        mi_ty += p_yt * np.log(p_yt / p_t / p_y)\n",
    "            \n",
    "    return mi_xt, mi_ty\n",
    "\n",
    "# get mutual information for all hidden layers\n",
    "def get_mutual_information(hiddens):\n",
    "    mi_xt_list = []; mi_ty_list = []\n",
    "    for hidden in hiddens:\n",
    "        mi_xt, mi_ty = calc_mutual_information(hidden)\n",
    "        mi_xt_list.append(mi_xt)\n",
    "        mi_ty_list.append(mi_ty)\n",
    "    return mi_xt_list, mi_ty_list"
   ]
  },
  {
   "cell_type": "code",
   "execution_count": null,
   "metadata": {
    "collapsed": false,
    "scrolled": true
   },
   "outputs": [],
   "source": [
    "for epoch, hidden_layers in model.run_model():\n",
    "    pass"
   ]
  },
  {
   "cell_type": "code",
   "execution_count": null,
   "metadata": {
    "collapsed": true
   },
   "outputs": [],
   "source": [
    "n_bins = 30\n",
    "bins = np.linspace(0, 1, n_bins+1)\n",
    "indices = np.digitize(model.hidden_layers[0].vals, bins)"
   ]
  },
  {
   "cell_type": "code",
   "execution_count": null,
   "metadata": {
    "collapsed": false
   },
   "outputs": [],
   "source": [
    "indices.shape"
   ]
  },
  {
   "cell_type": "code",
   "execution_count": null,
   "metadata": {
    "collapsed": false,
    "scrolled": true
   },
   "outputs": [],
   "source": [
    "mi_xt_all = []\n",
    "mi_ty_all = []\n",
    "epochs = []\n",
    "\n",
    "for epoch, hidden_layers in model.run_model():\n",
    "    mi_xt, mi_ty = get_mutual_information(hidden_layers)\n",
    "    mi_xt_all.append(mi_xt)\n",
    "    mi_ty_all.append(mi_ty)\n",
    "    epochs.append(epoch)"
   ]
  },
  {
   "cell_type": "code",
   "execution_count": null,
   "metadata": {
    "collapsed": false
   },
   "outputs": [],
   "source": [
    "mi_xt_all, mi_ty_all, epochs = np.array(mi_xt_all), np.array(mi_ty_all), np.array(epochs)"
   ]
  },
  {
   "cell_type": "code",
   "execution_count": null,
   "metadata": {
    "collapsed": true
   },
   "outputs": [],
   "source": [
    "%matplotlib inline\n",
    "import matplotlib.pyplot as plt\n",
    "from matplotlib import animation\n",
    "from IPython.display import HTML"
   ]
  },
  {
   "cell_type": "code",
   "execution_count": null,
   "metadata": {
    "collapsed": true
   },
   "outputs": [],
   "source": [
    "fig, ax = plt.subplots(figsize=(8,8))\n",
    "#ax.set_xlim((5, 7.0))\n",
    "#ax.set_ylim((1.75,2.3))\n",
    "ax.set_xlabel('I(X;T)')\n",
    "ax.set_ylabel('I(T;Y)')\n",
    "title = ax.set_title('')\n",
    "plt.close(fig)"
   ]
  },
  {
   "cell_type": "code",
   "execution_count": null,
   "metadata": {
    "collapsed": false
   },
   "outputs": [],
   "source": [
    "len(mi_xt_all)"
   ]
  },
  {
   "cell_type": "code",
   "execution_count": null,
   "metadata": {
    "collapsed": false
   },
   "outputs": [],
   "source": [
    "cmap = plt.cm.get_cmap('cool')\n",
    "\n",
    "def animate(i):\n",
    "    title.set_text('Epoch %s' % str(epochs[i]).zfill(4))\n",
    "    ax.plot(mi_xt_all[i,:], mi_ty_all[i,:], 'k-',alpha=0.2)\n",
    "    if i > 0:\n",
    "        for j in range(2):\n",
    "            ax.plot(mi_xt_all[(i-1):(i+1),j],mi_ty_all[(i-1):(i+1),j],'.-',c=cmap(j*.2),ms=10)\n",
    "            \n",
    "for i in range(len(mi_ty_all)):\n",
    "    animate(i)"
   ]
  },
  {
   "cell_type": "code",
   "execution_count": null,
   "metadata": {
    "collapsed": false
   },
   "outputs": [],
   "source": [
    "ax.set_title('Epoch 0000 - 2999')\n",
    "fig"
   ]
  },
  {
   "cell_type": "code",
   "execution_count": null,
   "metadata": {
    "collapsed": false
   },
   "outputs": [],
   "source": [
    "mi_ty_all"
   ]
  },
  {
   "cell_type": "code",
   "execution_count": null,
   "metadata": {
    "collapsed": false
   },
   "outputs": [],
   "source": [
    "[12,3,4][::-1]"
   ]
  },
  {
   "cell_type": "code",
   "execution_count": null,
   "metadata": {
    "collapsed": true
   },
   "outputs": [],
   "source": []
  }
 ],
 "metadata": {
  "kernelspec": {
   "display_name": "Python 2",
   "language": "python",
   "name": "python2"
  },
  "language_info": {
   "codemirror_mode": {
    "name": "ipython",
    "version": 2
   },
   "file_extension": ".py",
   "mimetype": "text/x-python",
   "name": "python",
   "nbconvert_exporter": "python",
   "pygments_lexer": "ipython2",
   "version": "2.7.13"
  }
 },
 "nbformat": 4,
 "nbformat_minor": 2
}
