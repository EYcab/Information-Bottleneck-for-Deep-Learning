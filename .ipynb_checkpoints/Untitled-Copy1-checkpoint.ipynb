{
 "cells": [
  {
   "cell_type": "code",
   "execution_count": 1,
   "metadata": {
    "collapsed": false
   },
   "outputs": [],
   "source": [
    "from utils import load_mnist\n",
    "import utils\n",
    "import numpy as np\n",
    "from mlp import Layer, LayerArgs, Model, ModelArgs"
   ]
  },
  {
   "cell_type": "code",
   "execution_count": null,
   "metadata": {
    "collapsed": true
   },
   "outputs": [],
   "source": [
    "X_train, y_train = load_mnist('../fashion_mnist/', kind='train')\n",
    "X_test, y_test = load_mnist('../fashion_mnist/', kind='t10k')"
   ]
  },
  {
   "cell_type": "code",
   "execution_count": null,
   "metadata": {
    "collapsed": true
   },
   "outputs": [],
   "source": [
    "X_train.shape"
   ]
  },
  {
   "cell_type": "code",
   "execution_count": 3,
   "metadata": {
    "collapsed": false
   },
   "outputs": [],
   "source": [
    "X_train, y_train = utils.unison_shuffled_copies(X_train, y_train)\n",
    "X_train, y_train= X_train[:1000], y_train[:1000]\n",
    "\n",
    "X_test, y_test = utils.unison_shuffled_copies(X_test, y_test)\n",
    "X_test, y_test = X_test[:1000], y_test[:1000]"
   ]
  },
  {
   "cell_type": "code",
   "execution_count": 4,
   "metadata": {
    "collapsed": true
   },
   "outputs": [],
   "source": [
    "X_train, X_test = np.multiply(X_train, 1.0 / 255.0), np.multiply(X_test, 1.0 / 255.0)"
   ]
  },
  {
   "cell_type": "code",
   "execution_count": 5,
   "metadata": {
    "collapsed": false
   },
   "outputs": [
    {
     "name": "stdout",
     "output_type": "stream",
     "text": [
      "data imported\n"
     ]
    }
   ],
   "source": [
    "layer_args = [LayerArgs(784, 784, layer_type = \"INPUT\"), LayerArgs(784, 12), LayerArgs(12, 12), LayerArgs(12, 12), LayerArgs(12, 10, layer_type = \"OUTPUT\", activate = np.exp)]\n",
    "model_args = ModelArgs(num_passes = 200)\n",
    "\n",
    "model = Model(layer_args, model_args)\n",
    "model.feed_data(X_train, y_train, X_test, y_test)\n",
    "\n",
    "print \"data imported\"\n",
    "model.intialize_model()"
   ]
  },
  {
   "cell_type": "code",
   "execution_count": 6,
   "metadata": {
    "collapsed": false
   },
   "outputs": [],
   "source": [
    "n_train_samples = X_train.shape[0]\n",
    "\n",
    "def totuple(a):\n",
    "    try:\n",
    "        return tuple(totuple(i) for i in a)\n",
    "    except TypeError:\n",
    "        return a\n",
    "    \n",
    "from collections import Counter\n",
    "\n",
    "def calc_mutual_information(hidden):\n",
    "    n_neurons = hidden.shape[1]\n",
    "  \n",
    "    # discretization \n",
    "    n_bins = 30\n",
    "    bins = np.linspace(0, 1, n_bins+1)\n",
    "    indices = np.digitize(hidden, bins)\n",
    "    \n",
    "    # initialize pdfs\n",
    "    pdf_x = Counter(); pdf_y = Counter(); pdf_t = Counter(); pdf_xt = Counter(); pdf_yt = Counter()\n",
    "\n",
    "    for i in range(n_train_samples):\n",
    "        pdf_x[totuple(X_train[i])] += 1/float(n_train_samples)\n",
    "        pdf_y[y_train[i]] += 1/float(n_train_samples)      \n",
    "        pdf_xt[(totuple(X_train[i]),)+tuple(indices[i,:])] += 1/float(n_train_samples)\n",
    "        pdf_yt[(y_train[i],)+tuple(indices[i,:])] += 1/float(n_train_samples)\n",
    "        pdf_t[tuple(indices[i,:])] += 1/float(n_train_samples)\n",
    "    \n",
    "    # calcuate encoder mutual information I(X;T)\n",
    "    mi_xt = 0\n",
    "    for i in pdf_xt:\n",
    "        # P(x,t), P(x) and P(t)\n",
    "        p_xt = pdf_xt[i]; p_x = pdf_x[i[0]]; p_t = pdf_t[i[1:]]\n",
    "        # I(X;T)\n",
    "        mi_xt += p_xt * np.log(p_xt / p_x / p_t)\n",
    " \n",
    "    # calculate decoder mutual information I(T;Y)\n",
    "    mi_ty = 0\n",
    "    for i in pdf_yt:\n",
    "        # P(t,y), P(t) and P(y)\n",
    "        p_yt = pdf_yt[i]; p_t = pdf_t[i[1:]]; p_y = pdf_y[i[0]]\n",
    "        # I(X;T)\n",
    "        mi_ty += p_yt * np.log(p_yt / p_t / p_y)\n",
    "            \n",
    "    return mi_xt, mi_ty\n",
    "\n",
    "# get mutual information for all hidden layers\n",
    "def get_mutual_information(hiddens):\n",
    "    mi_xt_list = []; mi_ty_list = []\n",
    "    for hidden in hiddens:\n",
    "        mi_xt, mi_ty = calc_mutual_information(hidden)\n",
    "        mi_xt_list.append(mi_xt)\n",
    "        mi_ty_list.append(mi_ty)\n",
    "    return mi_xt_list, mi_ty_list"
   ]
  },
  {
   "cell_type": "code",
   "execution_count": null,
   "metadata": {
    "collapsed": false,
    "scrolled": true
   },
   "outputs": [
    {
     "name": "stdout",
     "output_type": "stream",
     "text": [
      "1\n",
      "2\n",
      "3\n",
      "4\n",
      "5\n",
      "6\n",
      "7\n",
      "8\n",
      "9\n",
      "10\n",
      "11\n",
      "12\n",
      "13\n",
      "14\n",
      "15\n",
      "16\n",
      "17\n",
      "18\n",
      "19\n",
      "20\n",
      "21\n",
      "22\n",
      "23\n",
      "24\n",
      "25\n",
      "26\n",
      "27\n",
      "28\n",
      "29\n",
      "30\n",
      "31\n",
      "32\n",
      "33\n",
      "34\n",
      "35\n",
      "36\n",
      "37\n",
      "38\n",
      "39\n",
      "40\n",
      "41\n",
      "42\n",
      "43\n",
      "44\n",
      "45\n",
      "46\n",
      "47\n",
      "48\n",
      "49\n",
      "50\n",
      "51\n",
      "52\n",
      "53\n",
      "54\n",
      "55\n",
      "56\n",
      "57\n",
      "58\n",
      "59\n",
      "60\n",
      "61\n",
      "62\n",
      "63\n",
      "64\n",
      "65\n",
      "66\n",
      "67\n",
      "68\n",
      "69\n",
      "70\n",
      "71\n",
      "72\n",
      "73\n",
      "74\n",
      "75\n",
      "76\n",
      "77\n",
      "78\n",
      "79\n",
      "80\n",
      "81\n",
      "82\n",
      "83\n",
      "84\n",
      "85\n",
      "86\n",
      "87\n",
      "88\n",
      "89\n",
      "90\n",
      "91\n",
      "92\n",
      "93\n",
      "94\n",
      "95\n",
      "96\n",
      "97\n",
      "98\n",
      "99\n",
      "100\n",
      "101\n",
      "102\n",
      "103\n",
      "104\n",
      "105\n",
      "106\n",
      "107\n",
      "108\n",
      "109\n",
      "110\n",
      "111\n",
      "112\n",
      "113\n",
      "114\n",
      "115\n",
      "116\n",
      "117\n",
      "118\n",
      "119\n",
      "120\n",
      "121\n",
      "122\n",
      "123\n",
      "124\n",
      "125\n",
      "126\n",
      "127\n",
      "128\n",
      "129\n",
      "130\n",
      "131\n",
      "132\n",
      "133\n",
      "134\n",
      "135\n",
      "136\n",
      "137\n",
      "138\n",
      "139\n",
      "140\n",
      "141\n",
      "142\n",
      "143\n",
      "144\n",
      "145\n",
      "146\n",
      "147\n",
      "148\n",
      "149\n",
      "150\n",
      "151\n",
      "152\n",
      "153\n",
      "154\n",
      "155\n",
      "156\n",
      "157\n",
      "158\n",
      "159\n",
      "160\n",
      "161\n",
      "162\n",
      "163\n",
      "164\n",
      "165\n",
      "166\n",
      "167\n",
      "168\n",
      "169\n",
      "170\n",
      "171\n",
      "172\n",
      "173\n",
      "174\n",
      "175\n",
      "176\n",
      "177\n",
      "178\n",
      "179\n",
      "180\n",
      "181\n",
      "182\n",
      "183\n",
      "184\n",
      "185\n",
      "186\n",
      "187\n",
      "188\n",
      "189\n",
      "190\n"
     ]
    }
   ],
   "source": [
    "mi_xt_all = []\n",
    "mi_ty_all = []\n",
    "epochs = []\n",
    "\n",
    "for epoch, hidden_layers in model.run_model():\n",
    "    mi_xt, mi_ty = get_mutual_information(hidden_layers)\n",
    "    mi_xt_all.append(mi_xt)\n",
    "    mi_ty_all.append(mi_ty)\n",
    "    epochs.append(epoch)"
   ]
  },
  {
   "cell_type": "code",
   "execution_count": null,
   "metadata": {
    "collapsed": false
   },
   "outputs": [],
   "source": [
    "mi_xt_all, mi_ty_all, epochs = np.array(mi_xt_all), np.array(mi_ty_all), np.array(epochs)"
   ]
  },
  {
   "cell_type": "code",
   "execution_count": null,
   "metadata": {
    "collapsed": false
   },
   "outputs": [],
   "source": [
    "mi_xt_all\n"
   ]
  },
  {
   "cell_type": "code",
   "execution_count": null,
   "metadata": {
    "collapsed": false
   },
   "outputs": [],
   "source": [
    "model.hidden_layers[0].vals"
   ]
  },
  {
   "cell_type": "code",
   "execution_count": null,
   "metadata": {
    "collapsed": true
   },
   "outputs": [],
   "source": []
  },
  {
   "cell_type": "code",
   "execution_count": null,
   "metadata": {
    "collapsed": true
   },
   "outputs": [],
   "source": [
    "%matplotlib inline\n",
    "import matplotlib.pyplot as plt\n",
    "from matplotlib import animation\n",
    "from IPython.display import HTML"
   ]
  },
  {
   "cell_type": "code",
   "execution_count": null,
   "metadata": {
    "collapsed": true
   },
   "outputs": [],
   "source": [
    "fig, ax = plt.subplots(figsize=(8,8))\n",
    "#ax.set_xlim((9.0, 9.24))\n",
    "#ax.set_ylim((2.30,2.31))\n",
    "ax.set_xlabel('I(X;T)')\n",
    "ax.set_ylabel('I(T;Y)')\n",
    "title = ax.set_title('')\n",
    "plt.close(fig)"
   ]
  },
  {
   "cell_type": "code",
   "execution_count": null,
   "metadata": {
    "collapsed": false
   },
   "outputs": [],
   "source": [
    "len(mi_xt_all)"
   ]
  },
  {
   "cell_type": "code",
   "execution_count": null,
   "metadata": {
    "collapsed": false
   },
   "outputs": [],
   "source": [
    "cmap = plt.cm.get_cmap('cool')\n",
    "\n",
    "def animate(i):\n",
    "    title.set_text('Epoch %s' % str(epochs[i]).zfill(4))\n",
    "    ax.plot(mi_xt_all[i,:], mi_ty_all[i,:], 'k-',alpha=0.2)\n",
    "    if i > 0:\n",
    "        for j in range(2):\n",
    "            ax.plot(mi_xt_all[(i-1):(i+1),j],mi_ty_all[(i-1):(i+1),j],'.-',c=cmap(j*.2),ms=10)\n",
    "            \n",
    "for i in range(len(mi_ty_all)):\n",
    "    animate(i)"
   ]
  },
  {
   "cell_type": "code",
   "execution_count": null,
   "metadata": {
    "collapsed": false
   },
   "outputs": [],
   "source": [
    "ax.set_title('Epoch 0000 - 2999')\n",
    "fig"
   ]
  },
  {
   "cell_type": "code",
   "execution_count": null,
   "metadata": {
    "collapsed": false
   },
   "outputs": [],
   "source": [
    "mi_ty_all"
   ]
  },
  {
   "cell_type": "code",
   "execution_count": null,
   "metadata": {
    "collapsed": false
   },
   "outputs": [],
   "source": [
    "[12,3,4][::-1]"
   ]
  },
  {
   "cell_type": "code",
   "execution_count": null,
   "metadata": {
    "collapsed": true
   },
   "outputs": [],
   "source": []
  }
 ],
 "metadata": {
  "kernelspec": {
   "display_name": "Python 2",
   "language": "python",
   "name": "python2"
  },
  "language_info": {
   "codemirror_mode": {
    "name": "ipython",
    "version": 2
   },
   "file_extension": ".py",
   "mimetype": "text/x-python",
   "name": "python",
   "nbconvert_exporter": "python",
   "pygments_lexer": "ipython2",
   "version": "2.7.13"
  }
 },
 "nbformat": 4,
 "nbformat_minor": 2
}
