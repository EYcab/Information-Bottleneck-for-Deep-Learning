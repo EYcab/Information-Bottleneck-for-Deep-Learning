{
 "cells": [
  {
   "cell_type": "markdown",
   "metadata": {},
   "source": [
    "### Extension: Multilayer (n>=3) perceptron w/ Batch Normalization & binarized inputs"
   ]
  },
  {
   "cell_type": "code",
   "execution_count": 1,
   "metadata": {
    "collapsed": true
   },
   "outputs": [],
   "source": [
    "from utils import load_mnist\n",
    "import utils\n",
    "import numpy as np\n",
    "from mlp import Layer, LayerArgs, Model, ModelArgs\n",
    "from collections import Counter\n",
    "import math\n",
    "from mi_tool import MI\n",
    "import plot_tool"
   ]
  },
  {
   "cell_type": "code",
   "execution_count": 2,
   "metadata": {
    "collapsed": true
   },
   "outputs": [],
   "source": [
    "X_train, y_train = load_mnist('../fashion_mnist/', kind='train')\n",
    "X_test, y_test = load_mnist('../fashion_mnist/', kind='t10k')\n",
    "\n",
    "# normalize inputs\n",
    "X_train, X_test = np.multiply(X_train, 1.0 / 255.0), np.multiply(X_test, 1.0 / 255.0)\n",
    "X_train, y_train = utils.unison_shuffled_copies(X_train, y_train)\n",
    "X_train_subset, y_train_subset = X_train[:10000], y_train[:10000]"
   ]
  },
  {
   "cell_type": "code",
   "execution_count": 3,
   "metadata": {
    "collapsed": false
   },
   "outputs": [],
   "source": [
    "# define the network structure with 2 hidden layers of dimension 100 and 20. \n",
    "# other parameters were set to default, activation function is set to RELU by default. \n",
    "\n",
    "layer_args = [LayerArgs(784, 784, layer_type = \"INPUT\"), \\\n",
    "              LayerArgs(784, 100), \\\n",
    "              LayerArgs(100, 50), \\\n",
    "              LayerArgs(50, 25), \\\n",
    "              LayerArgs(25, 10, layer_type = \"OUTPUT\", activate = np.exp)]\n",
    "\n",
    "# our model is using mini-batch gradient descent\n",
    "# set max #(epoch) as 80 and max #(iteration) as 100000;\n",
    "# For everay 1000 iterations, we compute (and plot) MI;\n",
    "model_args = ModelArgs(num_passes = 80, max_iter=100000, report_interval=500)\n",
    "\n",
    "# intialize the model\n",
    "# TODO: model weights intialization by denoised autoencoder\n",
    "\n",
    "model = Model(layer_args, model_args)\n",
    "model.feed_data(X_train, y_train, X_test, y_test)\n",
    "model.trial_data(X_train_subset, y_train_subset)\n",
    "model.intialize_model()"
   ]
  },
  {
   "cell_type": "code",
   "execution_count": null,
   "metadata": {
    "collapsed": true
   },
   "outputs": [],
   "source": [
    "MI_client = MI(X_train_subset, y_train_subset, 10)\n",
    "MI_client.discretize()\n",
    "MI_client.pre_compute()"
   ]
  },
  {
   "cell_type": "code",
   "execution_count": null,
   "metadata": {
    "collapsed": false,
    "scrolled": true
   },
   "outputs": [
    {
     "name": "stdout",
     "output_type": "stream",
     "text": [
      "Epoch: 1, Train Acc: 0.85145, Test Acc: 0.837\n"
     ]
    }
   ],
   "source": [
    "for epoch, hidden_layers in model.run_model():\n",
    "    MI_client.mi_single_epoch(hidden_layers, epoch)"
   ]
  },
  {
   "cell_type": "markdown",
   "metadata": {},
   "source": [
    "### Analysis: Information Bottleneck"
   ]
  },
  {
   "cell_type": "code",
   "execution_count": null,
   "metadata": {
    "collapsed": true
   },
   "outputs": [],
   "source": [
    "plot_tool.mi_plot(MI_client)"
   ]
  },
  {
   "cell_type": "code",
   "execution_count": null,
   "metadata": {
    "collapsed": true
   },
   "outputs": [],
   "source": [
    "# binarization\n",
    "\n",
    "X_train.setflags(write=1)\n",
    "X_test.setflags(write=1)\n",
    "\n",
    "X_train = np.where(X_train>127, 1, 0)\n",
    "X_test = np.where(X_test>127, 1, 0)"
   ]
  }
 ],
 "metadata": {
  "kernelspec": {
   "display_name": "Python 2",
   "language": "python",
   "name": "python2"
  },
  "language_info": {
   "codemirror_mode": {
    "name": "ipython",
    "version": 2
   },
   "file_extension": ".py",
   "mimetype": "text/x-python",
   "name": "python",
   "nbconvert_exporter": "python",
   "pygments_lexer": "ipython2",
   "version": "2.7.13"
  }
 },
 "nbformat": 4,
 "nbformat_minor": 2
}
